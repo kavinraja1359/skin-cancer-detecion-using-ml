{
 "cells": [
  {
   "cell_type": "code",
   "execution_count": 16,
   "id": "69c715a4",
   "metadata": {},
   "outputs": [
    {
     "name": "stdout",
     "output_type": "stream",
     "text": [
      "<class 'pandas.core.frame.DataFrame'>\n",
      "RangeIndex: 2670 entries, 0 to 2669\n",
      "Data columns (total 7 columns):\n",
      " #   Column  Non-Null Count  Dtype  \n",
      "---  ------  --------------  -----  \n",
      " 0   A       2670 non-null   float64\n",
      " 1   B       2670 non-null   int64  \n",
      " 2   CR      2670 non-null   int64  \n",
      " 3   CG      2670 non-null   int64  \n",
      " 4   CB      2670 non-null   int64  \n",
      " 5   D       2670 non-null   int64  \n",
      " 6   CLASS   2670 non-null   int64  \n",
      "dtypes: float64(1), int64(6)\n",
      "memory usage: 146.1 KB\n"
     ]
    }
   ],
   "source": [
    "# import libraries\n",
    "import pandas as pd\n",
    "import numpy as np\n",
    "import seaborn as sns\n",
    "import matplotlib.pyplot as plt\n",
    "%matplotlib inline\n",
    "# Importing Data file\n",
    "data = pd.read_csv('features.csv')\n",
    "dataset = pd.DataFrame(data)\n",
    "dataset.columns\n",
    "\n",
    "dataset.info()\n",
    "\n"
   ]
  },
  {
   "cell_type": "code",
   "execution_count": 17,
   "id": "1b2538b2",
   "metadata": {},
   "outputs": [
    {
     "data": {
      "text/html": [
       "<div>\n",
       "<style scoped>\n",
       "    .dataframe tbody tr th:only-of-type {\n",
       "        vertical-align: middle;\n",
       "    }\n",
       "\n",
       "    .dataframe tbody tr th {\n",
       "        vertical-align: top;\n",
       "    }\n",
       "\n",
       "    .dataframe thead th {\n",
       "        text-align: right;\n",
       "    }\n",
       "</style>\n",
       "<table border=\"1\" class=\"dataframe\">\n",
       "  <thead>\n",
       "    <tr style=\"text-align: right;\">\n",
       "      <th></th>\n",
       "      <th>count</th>\n",
       "      <th>mean</th>\n",
       "      <th>std</th>\n",
       "      <th>min</th>\n",
       "      <th>25%</th>\n",
       "      <th>50%</th>\n",
       "      <th>75%</th>\n",
       "      <th>max</th>\n",
       "    </tr>\n",
       "  </thead>\n",
       "  <tbody>\n",
       "    <tr>\n",
       "      <th>A</th>\n",
       "      <td>2670.0</td>\n",
       "      <td>0.586147</td>\n",
       "      <td>0.308171</td>\n",
       "      <td>0.0</td>\n",
       "      <td>0.397</td>\n",
       "      <td>0.6745</td>\n",
       "      <td>0.822</td>\n",
       "      <td>1.0</td>\n",
       "    </tr>\n",
       "    <tr>\n",
       "      <th>B</th>\n",
       "      <td>2670.0</td>\n",
       "      <td>0.000000</td>\n",
       "      <td>0.000000</td>\n",
       "      <td>0.0</td>\n",
       "      <td>0.000</td>\n",
       "      <td>0.0000</td>\n",
       "      <td>0.000</td>\n",
       "      <td>0.0</td>\n",
       "    </tr>\n",
       "    <tr>\n",
       "      <th>CR</th>\n",
       "      <td>2670.0</td>\n",
       "      <td>161.221348</td>\n",
       "      <td>45.937119</td>\n",
       "      <td>2.0</td>\n",
       "      <td>139.000</td>\n",
       "      <td>167.0000</td>\n",
       "      <td>195.000</td>\n",
       "      <td>249.0</td>\n",
       "    </tr>\n",
       "    <tr>\n",
       "      <th>CG</th>\n",
       "      <td>2670.0</td>\n",
       "      <td>90.542697</td>\n",
       "      <td>30.014138</td>\n",
       "      <td>1.0</td>\n",
       "      <td>74.000</td>\n",
       "      <td>94.0000</td>\n",
       "      <td>112.000</td>\n",
       "      <td>174.0</td>\n",
       "    </tr>\n",
       "    <tr>\n",
       "      <th>CB</th>\n",
       "      <td>2670.0</td>\n",
       "      <td>82.053558</td>\n",
       "      <td>28.535119</td>\n",
       "      <td>1.0</td>\n",
       "      <td>65.000</td>\n",
       "      <td>85.0000</td>\n",
       "      <td>101.000</td>\n",
       "      <td>151.0</td>\n",
       "    </tr>\n",
       "    <tr>\n",
       "      <th>D</th>\n",
       "      <td>2670.0</td>\n",
       "      <td>182.982022</td>\n",
       "      <td>150.852968</td>\n",
       "      <td>0.0</td>\n",
       "      <td>94.000</td>\n",
       "      <td>162.0000</td>\n",
       "      <td>254.000</td>\n",
       "      <td>1256.0</td>\n",
       "    </tr>\n",
       "    <tr>\n",
       "      <th>CLASS</th>\n",
       "      <td>2670.0</td>\n",
       "      <td>0.447940</td>\n",
       "      <td>0.497376</td>\n",
       "      <td>0.0</td>\n",
       "      <td>0.000</td>\n",
       "      <td>0.0000</td>\n",
       "      <td>1.000</td>\n",
       "      <td>1.0</td>\n",
       "    </tr>\n",
       "  </tbody>\n",
       "</table>\n",
       "</div>"
      ],
      "text/plain": [
       "        count        mean         std  min      25%       50%      75%     max\n",
       "A      2670.0    0.586147    0.308171  0.0    0.397    0.6745    0.822     1.0\n",
       "B      2670.0    0.000000    0.000000  0.0    0.000    0.0000    0.000     0.0\n",
       "CR     2670.0  161.221348   45.937119  2.0  139.000  167.0000  195.000   249.0\n",
       "CG     2670.0   90.542697   30.014138  1.0   74.000   94.0000  112.000   174.0\n",
       "CB     2670.0   82.053558   28.535119  1.0   65.000   85.0000  101.000   151.0\n",
       "D      2670.0  182.982022  150.852968  0.0   94.000  162.0000  254.000  1256.0\n",
       "CLASS  2670.0    0.447940    0.497376  0.0    0.000    0.0000    1.000     1.0"
      ]
     },
     "execution_count": 17,
     "metadata": {},
     "output_type": "execute_result"
    }
   ],
   "source": [
    "dataset.describe().transpose()\n"
   ]
  },
  {
   "cell_type": "code",
   "execution_count": 13,
   "id": "a1ea9766",
   "metadata": {},
   "outputs": [],
   "source": [
    "dataset = dataset.replace('?', np.nan)\n",
    "dataset = dataset.apply(lambda x: x.fillna(x.median()),axis=0)\n",
    "\n",
    "# converting the hp column from object 'Bare Nuclei'/ string type to float\n",
    "#dataset['Bare Nuclei'] = dataset['out'].astype('float64')\n",
    "#dataset.isnull().sum()\n"
   ]
  },
  {
   "cell_type": "code",
   "execution_count": 14,
   "id": "1e198b64",
   "metadata": {},
   "outputs": [
    {
     "name": "stdout",
     "output_type": "stream",
     "text": [
      "0.7415730337078652\n",
      "0.700374531835206\n"
     ]
    }
   ],
   "source": [
    "from sklearn.model_selection import train_test_split\n",
    "\n",
    "# To calculate the accuracy score of the model\n",
    "from sklearn.metrics import accuracy_score, confusion_matrix\n",
    "\n",
    "target = dataset[\"CLASS\"]\n",
    "features = dataset.drop([\"CLASS\"], axis=1)\n",
    "X_train, X_test, y_train, y_test = train_test_split(features,target, test_size = 0.2, random_state = 10)\n",
    "from sklearn.svm import SVC\n",
    "\n",
    "# Building a Support Vector Machine on train data\n",
    "svc_model = SVC(C= .1, kernel='linear', gamma= 1)\n",
    "svc_model.fit(X_train, y_train)\n",
    "\n",
    "prediction = svc_model .predict(X_test)\n",
    "#print(prediction)\n",
    "# check the accuracy on the training set\n",
    "print(svc_model.score(X_train, y_train))\n",
    "print(svc_model.score(X_test, y_test))\n"
   ]
  },
  {
   "cell_type": "code",
   "execution_count": 15,
   "id": "1d50abb0",
   "metadata": {},
   "outputs": [],
   "source": [
    "import pickle\n",
    "# save the model to disk\n",
    "filename = 'cancermod.sav'\n",
    "pickle.dump(svc_model, open(filename, 'wb'))"
   ]
  },
  {
   "cell_type": "code",
   "execution_count": null,
   "id": "38ab319b",
   "metadata": {},
   "outputs": [],
   "source": []
  }
 ],
 "metadata": {
  "kernelspec": {
   "display_name": "Python 3 (ipykernel)",
   "language": "python",
   "name": "python3"
  },
  "language_info": {
   "codemirror_mode": {
    "name": "ipython",
    "version": 3
   },
   "file_extension": ".py",
   "mimetype": "text/x-python",
   "name": "python",
   "nbconvert_exporter": "python",
   "pygments_lexer": "ipython3",
   "version": "3.10.2"
  }
 },
 "nbformat": 4,
 "nbformat_minor": 5
}
